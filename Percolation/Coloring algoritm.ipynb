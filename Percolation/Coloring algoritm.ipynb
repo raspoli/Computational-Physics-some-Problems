{
 "cells": [
  {
   "cell_type": "code",
   "execution_count": 1,
   "metadata": {},
   "outputs": [],
   "source": [
    "import numpy as np\n",
    "import matplotlib.pyplot as plt"
   ]
  },
  {
   "cell_type": "markdown",
   "metadata": {},
   "source": [
    "## Functions"
   ]
  },
  {
   "cell_type": "code",
   "execution_count": 2,
   "metadata": {},
   "outputs": [],
   "source": [
    "def Active_site(row, col): \n",
    "    \"\"\"check specifice site is Active or not\"\"\"\n",
    "        return (row >= 0 and row < lattice_size and col >= 0 and col < lattice_size and not visited[row][col] and lattice[row][col]>0)"
   ]
  },
  {
   "cell_type": "code",
   "execution_count": 3,
   "metadata": {},
   "outputs": [],
   "source": [
    "def  Depth_First_Search(row, col,color):  \n",
    "    \"\"\" search for all site in specific cluster\"\"\"\n",
    "    rowNbr = [-1,0,0,1]\n",
    "    colNbr = [0,-1,1,0]\n",
    "          \n",
    "        \n",
    "    visited[row][col] = True\n",
    "    lattice[row][col] = color\n",
    "  \n",
    "    for k in range(0,4): \n",
    "        if Active_site(row + rowNbr[k], col + colNbr[k]): \n",
    "            Depth_First_Search(row + rowNbr[k], col + colNbr[k],color)"
   ]
  },
  {
   "cell_type": "markdown",
   "metadata": {},
   "source": [
    "## Percolating"
   ]
  },
  {
   "cell_type": "code",
   "execution_count": 24,
   "metadata": {},
   "outputs": [],
   "source": [
    "lattice_size = 20\n",
    "p = 0.55\n",
    "start = np.ones((lattice_size,1))\n",
    "end = np.ones((lattice_size,1)) * 20"
   ]
  },
  {
   "cell_type": "code",
   "execution_count": 25,
   "metadata": {},
   "outputs": [],
   "source": [
    "lattice = np.random.choice([0,1],p=[1-p,p],size=((lattice_size,lattice_size - 2)))\n",
    "lattice = np.concatenate((start,lattice,end),axis = 1)\n",
    "\n",
    "visited = np.array([[False for j in range(lattice_size)]for i in range(lattice_size)])"
   ]
  },
  {
   "cell_type": "code",
   "execution_count": 26,
   "metadata": {},
   "outputs": [],
   "source": [
    "color = 10\n",
    "for row in range(lattice_size):\n",
    "    for col in range(1,lattice_size):\n",
    "        \n",
    "        if visited[row][col] == False and lattice[row][col] == 1:\n",
    "            Depth_First_Search(row, col, color)\n",
    "            color = color + 5"
   ]
  },
  {
   "cell_type": "code",
   "execution_count": 27,
   "metadata": {},
   "outputs": [
    {
     "data": {
      "text/plain": [
       "<matplotlib.image.AxesImage at 0x21d7958cb00>"
      ]
     },
     "execution_count": 27,
     "metadata": {},
     "output_type": "execute_result"
    },
    {
     "data": {
      "image/png": "[encoded data removed]",
      "text/plain": [
       "<Figure size 1080x1080 with 2 Axes>"
      ]
     },
     "metadata": {},
     "output_type": "display_data"
    }
   ],
   "source": [
    "%matplotlib inline\n",
    "fig, axes = plt.subplots(1,2,figsize=(15,15))\n",
    "fig.suptitle('P=%.2f , size=%i'%(p,lattice_size),y = 0.72,fontsize = 20)\n",
    "\n",
    "axes[0].axis('off')\n",
    "axes[0].imshow(lattice, 'Paired')#cmap= plt.cm.gnuplot)\n",
    "\n",
    "axes[1].axis('off')\n",
    "axes[1].imshow(1 * visited,'binary')\n",
    "\n",
    "#plt.savefig('Coloring  fig4')"
   ]
  },
  {
   "cell_type": "markdown",
   "metadata": {},
   "source": [
    "Reference\n",
    "\n",
    "https://www.geeksforgeeks.org/find-number-of-islands/"
   ]
  },
  {
   "cell_type": "code",
   "execution_count": null,
   "metadata": {},
   "outputs": [],
   "source": []
  },
  {
   "cell_type": "code",
   "execution_count": null,
   "metadata": {},
   "outputs": [],
   "source": []
  }
 ],
 "metadata": {
  "kernelspec": {
   "display_name": "Python 3",
   "language": "python",
   "name": "python3"
  },
  "language_info": {
   "codemirror_mode": {
    "name": "ipython",
    "version": 3
   },
   "file_extension": ".py",
   "mimetype": "text/x-python",
   "name": "python",
   "nbconvert_exporter": "python",
   "pygments_lexer": "ipython3",
   "version": "3.6.5"
  },
  "varInspector": {
   "cols": {
    "lenName": 16,
    "lenType": 16,
    "lenVar": 40
   },
   "kernels_config": {
    "python": {
     "delete_cmd_postfix": "",
     "delete_cmd_prefix": "del ",
     "library": "var_list.py",
     "varRefreshCmd": "print(var_dic_list())"
    },
    "r": {
     "delete_cmd_postfix": ") ",
     "delete_cmd_prefix": "rm(",
     "library": "var_list.r",
     "varRefreshCmd": "cat(var_dic_list()) "
    }
   },
   "types_to_exclude": [
    "module",
    "function",
    "builtin_function_or_method",
    "instance",
    "_Feature"
   ],
   "window_display": false
  }
 },
 "nbformat": 4,
 "nbformat_minor": 2
}
